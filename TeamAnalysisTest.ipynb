{
 "cells": [
  {
   "attachments": {},
   "cell_type": "markdown",
   "metadata": {},
   "source": [
    "Jonathan Sosa Uranga<br><br>\n",
    "TeamAnalysisTest.ipynb\n",
    "<br><br>\n",
    "Peak Performance Data Analysis for Seasonal Performance"
   ]
  },
  {
   "cell_type": "code",
   "execution_count": 2,
   "metadata": {},
   "outputs": [],
   "source": [
    "#imports\n",
    "import pandas as pd\n",
    "import numpy as np\n",
    "import matplotlib.pyplot as plt\n",
    "\n",
    "from datetime import datetime, timedelta\n",
    "from matplotlib import dates as mpl_dates\n",
    "\n",
    "from analysis import An\n",
    "from teamsAnalysis import TeamAnalysis\n",
    "\n",
    "# Automatically reload external modules\n",
    "%load_ext autoreload\n",
    "%autoreload 2"
   ]
  },
  {
   "cell_type": "code",
   "execution_count": 4,
   "metadata": {},
   "outputs": [
    {
     "name": "stderr",
     "output_type": "stream",
     "text": [
      "/Users/jonnasosauranga/Desktop/PEAK Performance/analysis.py:214: FutureWarning: DataFrame.mean and DataFrame.median with numeric_only=None will include datetime64 and datetime64tz columns in a future version.\n",
      "  self.mean = self.fData.mean()\n",
      "/Users/jonnasosauranga/Desktop/PEAK Performance/analysis.py:214: FutureWarning: The default value of numeric_only in DataFrame.mean is deprecated. In a future version, it will default to False. In addition, specifying 'numeric_only=None' is deprecated. Select only valid columns or specify the value of numeric_only to silence this warning.\n",
      "  self.mean = self.fData.mean()\n",
      "/Users/jonnasosauranga/Desktop/PEAK Performance/analysis.py:215: FutureWarning: The default value of numeric_only in DataFrame.std is deprecated. In a future version, it will default to False. In addition, specifying 'numeric_only=None' is deprecated. Select only valid columns or specify the value of numeric_only to silence this warning.\n",
      "  self.std = self.fData.std()\n",
      "/Users/jonnasosauranga/Desktop/PEAK Performance/analysis.py:214: FutureWarning: DataFrame.mean and DataFrame.median with numeric_only=None will include datetime64 and datetime64tz columns in a future version.\n",
      "  self.mean = self.fData.mean()\n",
      "/Users/jonnasosauranga/Desktop/PEAK Performance/analysis.py:214: FutureWarning: The default value of numeric_only in DataFrame.mean is deprecated. In a future version, it will default to False. In addition, specifying 'numeric_only=None' is deprecated. Select only valid columns or specify the value of numeric_only to silence this warning.\n",
      "  self.mean = self.fData.mean()\n",
      "/Users/jonnasosauranga/Desktop/PEAK Performance/analysis.py:215: FutureWarning: The default value of numeric_only in DataFrame.std is deprecated. In a future version, it will default to False. In addition, specifying 'numeric_only=None' is deprecated. Select only valid columns or specify the value of numeric_only to silence this warning.\n",
      "  self.std = self.fData.std()\n"
     ]
    }
   ],
   "source": [
    "#object init\n",
    "#volleyball\n",
    "volley = An('data/VVC.csv',2021,fall='08/26',winter='10/15',spring='2/1',summer='05/26')\n",
    "volley.initialize()\n",
    "\n",
    "#Women Soccer\n",
    "soccer = An('data/WS.csv',2021,fall='08/26',winter='10/15',spring='2/1',summer='05/26')\n",
    "soccer.initialize()\n",
    "\n",
    "teams=[volley,soccer]"
   ]
  }
 ],
 "metadata": {
  "kernelspec": {
   "display_name": "Python 3",
   "language": "python",
   "name": "python3"
  },
  "language_info": {
   "codemirror_mode": {
    "name": "ipython",
    "version": 3
   },
   "file_extension": ".py",
   "mimetype": "text/x-python",
   "name": "python",
   "nbconvert_exporter": "python",
   "pygments_lexer": "ipython3",
   "version": "3.10.6"
  },
  "orig_nbformat": 4,
  "vscode": {
   "interpreter": {
    "hash": "aee8b7b246df8f9039afb4144a1f6fd8d2ca17a180786b69acc140d282b71a49"
   }
  }
 },
 "nbformat": 4,
 "nbformat_minor": 2
}
